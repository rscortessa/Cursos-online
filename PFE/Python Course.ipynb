{
 "cells": [
  {
   "cell_type": "markdown",
   "metadata": {},
   "source": [
    "# Third Course\n",
    "\n",
    "## Contents:\n",
    "1. [Regular expressions](#Regular)\n",
    "\n",
    "\n",
    "## 1. Regular expressions <a id=\"Regular\"></a>   \n",
    "\n",
    "It's a form of language, \"more intelegent for of search\" like a wild card.\n",
    "\n",
    "* They are powerful\n",
    "* They come a lot of fun\n",
    "\n",
    "if you want to use it in python you have to import it with the command:\n",
    "```python\n",
    "import re\n",
    "```\n",
    "* You can use: ```python re.search()``` to see if a string matches a regular expression, similar to using the ```find()``` methods for strings.<br>\n",
    "* You can use ```python re.findall()``` to extract portions of a string that match your regular expression, similar to a combination of ```python find()```  and slicing.\n",
    "\n",
    "Let's see a brief review"
   ]
  },
  {
   "cell_type": "code",
   "execution_count": 13,
   "metadata": {},
   "outputs": [
    {
     "data": {
      "text/plain": [
       "1"
      ]
     },
     "execution_count": 13,
     "metadata": {},
     "output_type": "execute_result"
    }
   ],
   "source": [
    "a=[\"ah\",\"h\",\"i\",\"k\",\"m\"] #.find() is a function that acts in a string, it ask for a string or substring \n",
    "# if there is in the initial string, it returns the index value of the string, \n",
    "a[0].find(\"h\")"
   ]
  },
  {
   "cell_type": "markdown",
   "metadata": {},
   "source": [
    "If you want to search the documentation:\n",
    "https://docs.python.org/3/howto/regex.html <br>\n",
    "\n",
    "There is a quick guide of regular expressions:"
   ]
  },
  {
   "cell_type": "markdown",
   "metadata": {},
   "source": [
    "<img src=\"quick guide regular expressions.PNG\">\n",
    "\n",
    "***GREEDY MEANS THE COMPUTER MATCHES THE LARGEST STRING POSSIBLE***"
   ]
  },
  {
   "cell_type": "code",
   "execution_count": 24,
   "metadata": {},
   "outputs": [
    {
     "name": "stdout",
     "output_type": "stream",
     "text": [
      "['45', '23', '47']\n",
      "['a', 'i', 'ea', 'o', 'i', 'i', 'e', 'i', 'a', 'o']\n",
      "['y', 'dad', 'is', 'years', 'old', 'mi', 'sister', 'is', 'and', 'my', 'mom']\n"
     ]
    }
   ],
   "source": [
    "#Another example:\n",
    "import re\n",
    "a=\"My dad is 45 years old, mi sister is 23 and my mom 47\"\n",
    "y=re.findall(\"[0-9]+\",a)\n",
    "z=re.findall(\"[aeiou]+\",a)\n",
    "w=re.findall(\"[a-z]+\",a)\n",
    "print(y)\n",
    "print(z)\n",
    "print(w)"
   ]
  },
  {
   "cell_type": "code",
   "execution_count": null,
   "metadata": {},
   "outputs": [],
   "source": []
  }
 ],
 "metadata": {
  "kernelspec": {
   "display_name": "Python 3",
   "language": "python",
   "name": "python3"
  },
  "language_info": {
   "codemirror_mode": {
    "name": "ipython",
    "version": 3
   },
   "file_extension": ".py",
   "mimetype": "text/x-python",
   "name": "python",
   "nbconvert_exporter": "python",
   "pygments_lexer": "ipython3",
   "version": "3.8.5"
  }
 },
 "nbformat": 4,
 "nbformat_minor": 4
}
